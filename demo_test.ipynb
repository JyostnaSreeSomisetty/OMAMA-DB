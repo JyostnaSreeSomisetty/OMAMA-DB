{
 "cells": [
  {
   "cell_type": "code",
   "execution_count": 2,
   "id": "d847fa77",
   "metadata": {},
   "outputs": [],
   "source": [
    "import omama as O"
   ]
  },
  {
   "cell_type": "code",
   "execution_count": 3,
   "id": "41a068e5",
   "metadata": {},
   "outputs": [
    {
     "name": "stdout",
     "output_type": "stream",
     "text": [
      "<module 'omama' from '/home/j.somisetty001/projects/omama/omama/__init__.py'>\n"
     ]
    }
   ],
   "source": [
    "print(O)"
   ]
  },
  {
   "cell_type": "code",
   "execution_count": 4,
   "id": "501e0b5a",
   "metadata": {},
   "outputs": [
    {
     "name": "stdout",
     "output_type": "stream",
     "text": [
      "['Algorithms', 'ConfusionMatrix', 'Data', 'DataHelper', 'DataLoader', 'DeepSight', 'DeepSightPost', 'Features', 'Image', 'Normalize', 'O', 'OmamaLoader', 'Scanner', 'SimpleNamespace', '__builtins__', '__cached__', '__doc__', '__file__', '__loader__', '__name__', '__package__', '__path__', '__spec__', 'algorithms', 'analysis', 'confusion_matrix', 'data', 'data_helper', 'deep_sight', 'dicom', 'feature_extractor', 'features', 'glob', 'helpers', 'io', 'loaders', 'mpl', 'normalizations', 'np', 'omama', 'os', 'pickle', 'plt', 'scanner', 'slurm_job_files', 'time']\n"
     ]
    }
   ],
   "source": [
    "print(dir(O))"
   ]
  },
  {
   "cell_type": "code",
   "execution_count": 5,
   "id": "289dc879",
   "metadata": {},
   "outputs": [
    {
     "name": "stdout",
     "output_type": "stream",
     "text": [
      "Loading config data from ini file\n",
      "DataLoader type is:  <class 'omama.loaders.omama_loader.OmamaLoader'>\n",
      "get2D                    ...took     2.368046 seconds\n"
     ]
    }
   ],
   "source": [
    "import sys\n",
    "import time\n",
    "sys.path.insert(0,'../..')\n",
    "\n",
    "imgs = O.DataHelper.get2D(N=2, randomize=True, timing=True)"
   ]
  },
  {
   "cell_type": "code",
   "execution_count": 6,
   "id": "ab5b1a1e",
   "metadata": {},
   "outputs": [
    {
     "name": "stdout",
     "output_type": "stream",
     "text": [
      "Loading config data from ini file\n",
      "DataLoader type is:  <class 'omama.loaders.omama_loader.OmamaLoader'>\n",
      "get3D                    ...took    27.408451 seconds\n"
     ]
    }
   ],
   "source": [
    "imgs3d = O.DataHelper.get3D(N=2, cancer=True, randomize=True, timing=True)"
   ]
  },
  {
   "cell_type": "code",
   "execution_count": null,
   "id": "52365b11",
   "metadata": {},
   "outputs": [],
   "source": []
  }
 ],
 "metadata": {
  "kernelspec": {
   "display_name": "Python 3 (ipykernel)",
   "language": "python",
   "name": "python3"
  },
  "language_info": {
   "codemirror_mode": {
    "name": "ipython",
    "version": 3
   },
   "file_extension": ".py",
   "mimetype": "text/x-python",
   "name": "python",
   "nbconvert_exporter": "python",
   "pygments_lexer": "ipython3",
   "version": "3.9.7"
  }
 },
 "nbformat": 4,
 "nbformat_minor": 5
}
